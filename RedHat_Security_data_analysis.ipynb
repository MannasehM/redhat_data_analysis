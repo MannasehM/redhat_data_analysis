{
  "nbformat": 4,
  "nbformat_minor": 0,
  "metadata": {
    "colab": {
      "provenance": [],
      "gpuType": "T4"
    },
    "kernelspec": {
      "name": "python3",
      "display_name": "Python 3"
    },
    "language_info": {
      "name": "python"
    }
  },
  "cells": [
    {
      "cell_type": "code",
      "source": [
        "!pip install requests beautifulsoup4"
      ],
      "metadata": {
        "colab": {
          "base_uri": "https://localhost:8080/"
        },
        "collapsed": true,
        "id": "rN7vXklTSCL1",
        "outputId": "59d72d7d-6486-4844-fad7-0c46481a2ca0"
      },
      "execution_count": 1,
      "outputs": [
        {
          "output_type": "stream",
          "name": "stdout",
          "text": [
            "Requirement already satisfied: requests in /usr/local/lib/python3.12/dist-packages (2.32.4)\n",
            "Requirement already satisfied: beautifulsoup4 in /usr/local/lib/python3.12/dist-packages (4.13.5)\n",
            "Requirement already satisfied: charset_normalizer<4,>=2 in /usr/local/lib/python3.12/dist-packages (from requests) (3.4.3)\n",
            "Requirement already satisfied: idna<4,>=2.5 in /usr/local/lib/python3.12/dist-packages (from requests) (3.10)\n",
            "Requirement already satisfied: urllib3<3,>=1.21.1 in /usr/local/lib/python3.12/dist-packages (from requests) (2.5.0)\n",
            "Requirement already satisfied: certifi>=2017.4.17 in /usr/local/lib/python3.12/dist-packages (from requests) (2025.8.3)\n",
            "Requirement already satisfied: soupsieve>1.2 in /usr/local/lib/python3.12/dist-packages (from beautifulsoup4) (2.8)\n",
            "Requirement already satisfied: typing-extensions>=4.0.0 in /usr/local/lib/python3.12/dist-packages (from beautifulsoup4) (4.15.0)\n"
          ]
        }
      ]
    },
    {
      "cell_type": "code",
      "source": [
        "import requests\n",
        "from bs4 import BeautifulSoup\n",
        "import os\n",
        "from datetime import datetime"
      ],
      "metadata": {
        "id": "KizX2eb-TMRw"
      },
      "execution_count": 2,
      "outputs": []
    },
    {
      "cell_type": "markdown",
      "source": [
        "Searched up \"Red Hat security data\", got this link: https://access.redhat.com/security/data"
      ],
      "metadata": {
        "id": "0-Yi2LmoRfA0"
      }
    },
    {
      "cell_type": "code",
      "source": [
        "BASE_URL = \"https://security.access.redhat.com/data/csaf/v2/vex/2025/\"\n",
        "SAVE_DIR = \"data/sep2025/\"\n",
        "os.makedirs(SAVE_DIR, exist_ok=True)\n",
        "\n",
        "resp = requests.get(BASE_URL)\n",
        "soup = BeautifulSoup(resp.text, \"html.parser\")\n",
        "\n",
        "download_count = 0\n",
        "MAX_DOWNLOADS = 100\n",
        "\n",
        "for row in soup.select(\"tbody tr\"):\n",
        "    name_cell = row.find(\"td\", class_=\"indexcolname\")\n",
        "    date_cell = row.find(\"td\", class_=\"indexcollastmod\")\n",
        "\n",
        "    if not name_cell or not date_cell:\n",
        "        continue\n",
        "\n",
        "    href = name_cell.a.get(\"href\") if name_cell.a else None\n",
        "    lastmod_text = date_cell.get_text(strip=True)\n",
        "\n",
        "    try:\n",
        "        lastmod_dt = datetime.strptime(lastmod_text, \"%a, %d %b %Y %H:%M:%S %z\")\n",
        "    except ValueError:\n",
        "        continue\n",
        "\n",
        "    # only keep September 2025\n",
        "    if href and href.endswith(\".json\") and lastmod_dt.year == 2025 and lastmod_dt.month == 9:\n",
        "        file_url = BASE_URL + href\n",
        "        file_path = os.path.join(SAVE_DIR, href)\n",
        "\n",
        "        r = requests.get(file_url)\n",
        "        if r.status_code == 200:\n",
        "            with open(file_path, \"wb\") as f:\n",
        "                f.write(r.content)\n",
        "            print(f\"Saved {file_path}\")\n",
        "        else:\n",
        "            print(f\"Failed to download {href}\")\n",
        "\n",
        "        download_count += 1\n",
        "        if download_count >= MAX_DOWNLOADS:\n",
        "            print(f\"Reached limit of {MAX_DOWNLOADS} downloads, stopping.\")\n",
        "            break"
      ],
      "metadata": {
        "colab": {
          "base_uri": "https://localhost:8080/"
        },
        "collapsed": true,
        "id": "CcyTMTY1Om7G",
        "outputId": "97117263-7eb3-41f2-9fff-3199cc6ead08"
      },
      "execution_count": 3,
      "outputs": [
        {
          "output_type": "stream",
          "name": "stdout",
          "text": [
            "Saved data/sep2025/cve-2025-0009.json\n",
            "Saved data/sep2025/cve-2025-0076.json\n",
            "Saved data/sep2025/cve-2025-0077.json\n",
            "Saved data/sep2025/cve-2025-0087.json\n",
            "Saved data/sep2025/cve-2025-0089.json\n",
            "Saved data/sep2025/cve-2025-0164.json\n",
            "Saved data/sep2025/cve-2025-0165.json\n",
            "Saved data/sep2025/cve-2025-0167.json\n",
            "Saved data/sep2025/cve-2025-0237.json\n",
            "Saved data/sep2025/cve-2025-0238.json\n",
            "Saved data/sep2025/cve-2025-0239.json\n",
            "Saved data/sep2025/cve-2025-0240.json\n",
            "Saved data/sep2025/cve-2025-0241.json\n",
            "Saved data/sep2025/cve-2025-0242.json\n",
            "Saved data/sep2025/cve-2025-0243.json\n",
            "Saved data/sep2025/cve-2025-0244.json\n",
            "Saved data/sep2025/cve-2025-0245.json\n",
            "Saved data/sep2025/cve-2025-0246.json\n",
            "Saved data/sep2025/cve-2025-0247.json\n",
            "Saved data/sep2025/cve-2025-0280.json\n",
            "Saved data/sep2025/cve-2025-0291.json\n",
            "Saved data/sep2025/cve-2025-0306.json\n",
            "Saved data/sep2025/cve-2025-0312.json\n",
            "Saved data/sep2025/cve-2025-0313.json\n",
            "Saved data/sep2025/cve-2025-0315.json\n",
            "Saved data/sep2025/cve-2025-0317.json\n",
            "Saved data/sep2025/cve-2025-0377.json\n",
            "Saved data/sep2025/cve-2025-0395.json\n",
            "Saved data/sep2025/cve-2025-0419.json\n",
            "Saved data/sep2025/cve-2025-0420.json\n",
            "Saved data/sep2025/cve-2025-0426.json\n",
            "Saved data/sep2025/cve-2025-0434.json\n",
            "Saved data/sep2025/cve-2025-0436.json\n",
            "Saved data/sep2025/cve-2025-0437.json\n",
            "Saved data/sep2025/cve-2025-0438.json\n",
            "Saved data/sep2025/cve-2025-0439.json\n",
            "Saved data/sep2025/cve-2025-0441.json\n",
            "Saved data/sep2025/cve-2025-0442.json\n",
            "Saved data/sep2025/cve-2025-0443.json\n",
            "Saved data/sep2025/cve-2025-0444.json\n",
            "Saved data/sep2025/cve-2025-0445.json\n",
            "Saved data/sep2025/cve-2025-0446.json\n",
            "Saved data/sep2025/cve-2025-0447.json\n",
            "Saved data/sep2025/cve-2025-0448.json\n",
            "Saved data/sep2025/cve-2025-0451.json\n",
            "Saved data/sep2025/cve-2025-0510.json\n",
            "Saved data/sep2025/cve-2025-0514.json\n",
            "Saved data/sep2025/cve-2025-0518.json\n",
            "Saved data/sep2025/cve-2025-0546.json\n",
            "Saved data/sep2025/cve-2025-0547.json\n",
            "Saved data/sep2025/cve-2025-0577.json\n",
            "Saved data/sep2025/cve-2025-0604.json\n",
            "Saved data/sep2025/cve-2025-0610.json\n",
            "Saved data/sep2025/cve-2025-0611.json\n",
            "Saved data/sep2025/cve-2025-0612.json\n",
            "Saved data/sep2025/cve-2025-0620.json\n",
            "Saved data/sep2025/cve-2025-0622.json\n",
            "Saved data/sep2025/cve-2025-0624.json\n",
            "Saved data/sep2025/cve-2025-0633.json\n",
            "Saved data/sep2025/cve-2025-0638.json\n",
            "Saved data/sep2025/cve-2025-0640.json\n",
            "Saved data/sep2025/cve-2025-0650.json\n",
            "Saved data/sep2025/cve-2025-0656.json\n",
            "Saved data/sep2025/cve-2025-0665.json\n",
            "Saved data/sep2025/cve-2025-0670.json\n",
            "Saved data/sep2025/cve-2025-0677.json\n",
            "Saved data/sep2025/cve-2025-0678.json\n",
            "Saved data/sep2025/cve-2025-0684.json\n",
            "Saved data/sep2025/cve-2025-0685.json\n",
            "Saved data/sep2025/cve-2025-0686.json\n",
            "Saved data/sep2025/cve-2025-0689.json\n",
            "Saved data/sep2025/cve-2025-0690.json\n",
            "Saved data/sep2025/cve-2025-0716.json\n",
            "Saved data/sep2025/cve-2025-0725.json\n",
            "Saved data/sep2025/cve-2025-0736.json\n",
            "Saved data/sep2025/cve-2025-0750.json\n",
            "Saved data/sep2025/cve-2025-0752.json\n",
            "Saved data/sep2025/cve-2025-0754.json\n",
            "Saved data/sep2025/cve-2025-0762.json\n",
            "Saved data/sep2025/cve-2025-0763.json\n",
            "Saved data/sep2025/cve-2025-0781.json\n",
            "Saved data/sep2025/cve-2025-0825.json\n",
            "Saved data/sep2025/cve-2025-0838.json\n",
            "Saved data/sep2025/cve-2025-0840.json\n",
            "Saved data/sep2025/cve-2025-0878.json\n",
            "Saved data/sep2025/cve-2025-0879.json\n",
            "Saved data/sep2025/cve-2025-0927.json\n",
            "Saved data/sep2025/cve-2025-0937.json\n",
            "Saved data/sep2025/cve-2025-0938.json\n",
            "Saved data/sep2025/cve-2025-0995.json\n",
            "Saved data/sep2025/cve-2025-0997.json\n",
            "Saved data/sep2025/cve-2025-0998.json\n",
            "Saved data/sep2025/cve-2025-0999.json\n",
            "Saved data/sep2025/cve-2025-10001.json\n",
            "Saved data/sep2025/cve-2025-10003.json\n",
            "Saved data/sep2025/cve-2025-10011.json\n",
            "Saved data/sep2025/cve-2025-10012.json\n",
            "Saved data/sep2025/cve-2025-10013.json\n",
            "Saved data/sep2025/cve-2025-10014.json\n",
            "Saved data/sep2025/cve-2025-10015.json\n",
            "Reached limit of 100 downloads, stopping.\n"
          ]
        }
      ]
    },
    {
      "cell_type": "code",
      "source": [
        "import json\n",
        "import pandas as pd\n",
        "from pandas import json_normalize\n",
        "import glob\n",
        "\n",
        "json_files = glob.glob(\"data/sep2025/*.json\")\n",
        "\n",
        "rows = []\n",
        "\n",
        "for file in json_files:\n",
        "    with open(file, \"r\") as f:\n",
        "        data = json.load(f)\n",
        "\n",
        "        # metadata\n",
        "        tracking = data.get(\"document\", {}).get(\"tracking\", {})\n",
        "        cve_id = tracking.get(\"id\")\n",
        "        published = tracking.get(\"initial_release_date\")\n",
        "        modified = tracking.get(\"current_release_date\")\n",
        "        status = tracking.get(\"status\")\n",
        "\n",
        "        description = None\n",
        "        for vuln in data.get(\"vulnerabilities\", []):\n",
        "            for note in vuln.get(\"notes\", []):\n",
        "                if note.get(\"category\") == \"description\":\n",
        "                    description = note.get(\"text\")\n",
        "\n",
        "            release_date = vuln.get(\"release_date\")\n",
        "\n",
        "            product_status = vuln.get(\"product_status\", {})\n",
        "            known_not_affected = product_status.get(\"known_not_affected\", [])\n",
        "            known_affected = product_status.get(\"known_affected\", [])\n",
        "\n",
        "            for product in known_not_affected:\n",
        "                rows.append({\n",
        "                    \"CVE_ID\": cve_id,\n",
        "                    \"Published\": published,\n",
        "                    \"Modified\": modified,\n",
        "                    \"Status\": status,\n",
        "                    \"Release_Date\": release_date,\n",
        "                    \"Product\": product,\n",
        "                    \"Affected\": False,\n",
        "                    \"Description\": description\n",
        "                })\n",
        "            for product in known_affected:\n",
        "                rows.append({\n",
        "                    \"CVE_ID\": cve_id,\n",
        "                    \"Published\": published,\n",
        "                    \"Modified\": modified,\n",
        "                    \"Status\": status,\n",
        "                    \"Release_Date\": release_date,\n",
        "                    \"Product\": product,\n",
        "                    \"Affected\": True,\n",
        "                    \"Description\": description\n",
        "                })\n",
        "\n",
        "df = pd.DataFrame(rows)\n",
        "df.to_csv(\"data/sep2025.csv\", index=False)\n",
        "print(df.head())\n",
        "#print(df.info())"
      ],
      "metadata": {
        "colab": {
          "base_uri": "https://localhost:8080/"
        },
        "id": "eFEW7haavupv",
        "outputId": "01992e22-7bc8-4ca3-b962-3b50ac32a6f8"
      },
      "execution_count": 4,
      "outputs": [
        {
          "output_type": "stream",
          "name": "stdout",
          "text": [
            "          CVE_ID                         Published                   Modified  \\\n",
            "0  CVE-2025-0312  2025-03-20T10:10:53.551000+00:00  2025-09-10T07:10:10+00:00   \n",
            "1  CVE-2025-0312  2025-03-20T10:10:53.551000+00:00  2025-09-10T07:10:10+00:00   \n",
            "2  CVE-2025-0684         2025-02-18T18:00:00+00:00  2025-09-10T03:18:07+00:00   \n",
            "3  CVE-2025-0684         2025-02-18T18:00:00+00:00  2025-09-10T03:18:07+00:00   \n",
            "4  CVE-2025-0684         2025-02-18T18:00:00+00:00  2025-09-10T03:18:07+00:00   \n",
            "\n",
            "  Status                      Release_Date  \\\n",
            "0  final  2025-03-20T10:10:53.551000+00:00   \n",
            "1  final  2025-03-20T10:10:53.551000+00:00   \n",
            "2  final         2025-02-18T18:00:00+00:00   \n",
            "3  final         2025-02-18T18:00:00+00:00   \n",
            "4  final         2025-02-18T18:00:00+00:00   \n",
            "\n",
            "                                             Product  Affected  \\\n",
            "0  red_hat_ansible_automation_platform_2:ansible-...     False   \n",
            "1  red_hat_ansible_automation_platform_2:ansible-...     False   \n",
            "2           red_hat_enterprise_linux_10:grub2-common     False   \n",
            "3         red_hat_enterprise_linux_10:grub2-efi-aa64     False   \n",
            "4  red_hat_enterprise_linux_10:grub2-efi-aa64-cdboot     False   \n",
            "\n",
            "                                         Description  \n",
            "0  A flaw was found in Ollama. This vulnerability...  \n",
            "1  A flaw was found in Ollama. This vulnerability...  \n",
            "2  A flaw was found in grub2. When performing a s...  \n",
            "3  A flaw was found in grub2. When performing a s...  \n",
            "4  A flaw was found in grub2. When performing a s...  \n"
          ]
        }
      ]
    },
    {
      "cell_type": "code",
      "source": [
        "top_products = (\n",
        "    df.groupby(\"Product\")[\"CVE_ID\"]\n",
        "      .nunique()\n",
        "      .sort_values(ascending=False)\n",
        "      .head(50)\n",
        ")\n",
        "print(top_products)"
      ],
      "metadata": {
        "colab": {
          "base_uri": "https://localhost:8080/"
        },
        "collapsed": true,
        "id": "iTTKtuSn6Bo8",
        "outputId": "f09aace2-d510-49f6-a851-60de52305385"
      },
      "execution_count": 8,
      "outputs": [
        {
          "output_type": "stream",
          "name": "stdout",
          "text": [
            "Product\n",
            "red_hat_products                                             54\n",
            "red_hat_openshift_container_platform_4:rhcos                 13\n",
            "red_hat_enterprise_linux_10:firefox                          12\n",
            "red_hat_enterprise_linux_6:firefox                           12\n",
            "red_hat_enterprise_linux_6:firefox.src                       12\n",
            "red_hat_enterprise_linux_10:firefox.src                      12\n",
            "red_hat_enterprise_linux_9:firefox-x11-firefox:flatpak       12\n",
            "red_hat_enterprise_linux_6:thunderbird.src                   10\n",
            "red_hat_enterprise_linux_6:thunderbird                       10\n",
            "red_hat_enterprise_linux_7:thunderbird.src                   10\n",
            "red_hat_enterprise_linux_7:thunderbird                       10\n",
            "red_hat_enterprise_linux_10:thunderbird.src                  10\n",
            "red_hat_enterprise_linux_10:thunderbird                      10\n",
            "red_hat_enterprise_linux_8:grub2-efi-aa64-modules             8\n",
            "red_hat_enterprise_linux_8:grub2-efi-x64-modules              8\n",
            "red_hat_enterprise_linux_8:grub2-efi-x64-cdboot               8\n",
            "red_hat_enterprise_linux_8:grub2-pc                           8\n",
            "red_hat_enterprise_linux_8:grub2-pc-modules                   8\n",
            "red_hat_enterprise_linux_8:grub2-efi-x64                      8\n",
            "red_hat_enterprise_linux_8:grub2-efi-ia32-modules             8\n",
            "red_hat_enterprise_linux_8:grub2-ppc64le                      8\n",
            "red_hat_enterprise_linux_8:grub2-efi-ia32-cdboot              8\n",
            "red_hat_enterprise_linux_8:grub2-efi-ia32                     8\n",
            "red_hat_enterprise_linux_8:grub2-tools                        8\n",
            "red_hat_enterprise_linux_8:grub2-efi-aa64-cdboot              8\n",
            "red_hat_enterprise_linux_8:grub2-efi-aa64                     8\n",
            "red_hat_enterprise_linux_8:grub2-common                       8\n",
            "red_hat_enterprise_linux_7:grub2-efi-x64-cdboot               8\n",
            "red_hat_enterprise_linux_7:grub2-efi-x64                      8\n",
            "red_hat_enterprise_linux_7:grub2-efi-modules                  8\n",
            "red_hat_enterprise_linux_7:grub2-efi-ia32-modules             8\n",
            "red_hat_enterprise_linux_7:grub2-ppc64le                      8\n",
            "red_hat_enterprise_linux_10:thunderbird-flatpak-container     8\n",
            "red_hat_enterprise_linux_7:grub2                              8\n",
            "red_hat_enterprise_linux_7:grub2-common                       8\n",
            "red_hat_enterprise_linux_7:grub2-efi                          8\n",
            "red_hat_enterprise_linux_7:grub2-efi-aa64-modules             8\n",
            "red_hat_enterprise_linux_7:grub2-efi-ia32                     8\n",
            "red_hat_enterprise_linux_7:grub2-efi-ia32-cdboot              8\n",
            "red_hat_enterprise_linux_8:grub2-ppc64le-modules              8\n",
            "red_hat_enterprise_linux_7:grub2-tools-extra                  8\n",
            "red_hat_enterprise_linux_7:grub2-tools                        8\n",
            "red_hat_enterprise_linux_7:grub2.src                          8\n",
            "red_hat_enterprise_linux_7:grub2-ppc64-modules                8\n",
            "red_hat_enterprise_linux_7:grub2-ppc64                        8\n",
            "red_hat_enterprise_linux_7:grub2-ppc-modules                  8\n",
            "red_hat_enterprise_linux_7:grub2-ppc64le-modules              8\n",
            "red_hat_enterprise_linux_7:grub2-pc-modules                   8\n",
            "red_hat_enterprise_linux_7:grub2-pc                           8\n",
            "red_hat_enterprise_linux_7:grub2-efi-x64-modules              8\n",
            "Name: CVE_ID, dtype: int64\n"
          ]
        }
      ]
    },
    {
      "cell_type": "code",
      "source": [
        "from collections import Counter\n",
        "import re\n",
        "import nltk\n",
        "from nltk.corpus import stopwords\n",
        "\n",
        "nltk.download(\"stopwords\")\n",
        "stop_words = set(stopwords.words(\"english\"))\n",
        "\n",
        "words = []\n",
        "for desc in df[\"Description\"].dropna():\n",
        "    for w in re.findall(r\"\\b[a-zA-Z]{5,}\\b\", desc.lower()):\n",
        "        if w not in stop_words:\n",
        "            words.append(w)\n",
        "\n",
        "common_words = Counter(words).most_common(50)\n",
        "print(common_words)"
      ],
      "metadata": {
        "colab": {
          "base_uri": "https://localhost:8080/"
        },
        "id": "rbbf3bd9IT9n",
        "outputId": "10a49039-654a-4642-953b-f460338a22d8"
      },
      "execution_count": 13,
      "outputs": [
        {
          "output_type": "stream",
          "name": "stdout",
          "text": [
            "[('buffer', 7246), ('internal', 6731), ('found', 6217), ('network', 5986), ('variable', 5959), ('environment', 5902), ('function', 4117), ('result', 3780), ('using', 3712), ('issue', 3550), ('secure', 3457), ('execution', 3405), ('protections', 3358), ('controlled', 3331), ('write', 3273), ('bounds', 3234), ('length', 3227), ('information', 3212), ('allocating', 3194), ('resulting', 3101), ('exploited', 3044), ('process', 3008), ('fails', 2994), ('correctly', 2993), ('remote', 2979), ('configuration', 2952), ('trying', 2951), ('search', 2951), ('copies', 2951), ('consider', 2951), ('segment', 2951), ('searching', 2951), ('functions', 2252), ('could', 2171), ('libreoffice', 2010), ('shellexecute', 2010), ('system', 1597), ('vulnerability', 1519), ('paths', 1438), ('windows', 1340), ('mechanism', 1340), ('filesystem', 1210), ('glibc', 1155), ('service', 1100), ('overflow', 1082), ('attacker', 1069), ('arbitrary', 875), ('leading', 860), ('crafted', 718), ('called', 711)]\n"
          ]
        },
        {
          "output_type": "stream",
          "name": "stderr",
          "text": [
            "[nltk_data] Downloading package stopwords to /root/nltk_data...\n",
            "[nltk_data]   Package stopwords is already up-to-date!\n"
          ]
        }
      ]
    }
  ]
}